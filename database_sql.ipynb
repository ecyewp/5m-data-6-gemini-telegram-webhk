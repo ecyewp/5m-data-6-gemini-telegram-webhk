{
 "cells": [
  {
   "cell_type": "code",
   "execution_count": 1,
   "metadata": {
    "id": "sd01JhAHNRqC"
   },
   "outputs": [],
   "source": [
    "import sqlite3"
   ]
  },
  {
   "cell_type": "code",
   "execution_count": 2,
   "metadata": {
    "id": "CeGcynneOjs1"
   },
   "outputs": [],
   "source": [
    "import datetime"
   ]
  },
  {
   "cell_type": "code",
   "execution_count": 3,
   "metadata": {
    "id": "ppuSSS1kO3Bp"
   },
   "outputs": [],
   "source": [
    "conn = sqlite3.connect('user.db')"
   ]
  },
  {
   "cell_type": "code",
   "execution_count": 4,
   "metadata": {
    "colab": {
     "base_uri": "https://localhost:8080/"
    },
    "id": "7gtZ5L9kg5jS",
    "outputId": "3abf542c-af5b-46e9-f5ae-ce04727ae6e0"
   },
   "outputs": [
    {
     "data": {
      "text/plain": [
       "<sqlite3.Cursor at 0x2435363a440>"
      ]
     },
     "execution_count": 4,
     "metadata": {},
     "output_type": "execute_result"
    }
   ],
   "source": [
    "conn.execute(\n",
    "    'CREATE TABLE IF NOT EXISTS users (name text, timestamp timestamp)')"
   ]
  },
  {
   "cell_type": "code",
   "execution_count": 5,
   "metadata": {
    "id": "zbTrmYBLPW4P"
   },
   "outputs": [],
   "source": [
    "conn.close()"
   ]
  },
  {
   "cell_type": "code",
   "execution_count": 6,
   "metadata": {
    "id": "M1A-aJcvPe37"
   },
   "outputs": [],
   "source": [
    "conn = sqlite3.connect('user.db')"
   ]
  },
  {
   "cell_type": "code",
   "execution_count": 7,
   "metadata": {
    "id": "TxezP7bvQNXa"
   },
   "outputs": [],
   "source": [
    "c = conn.cursor()"
   ]
  },
  {
   "cell_type": "code",
   "execution_count": 8,
   "metadata": {
    "colab": {
     "base_uri": "https://localhost:8080/"
    },
    "id": "eYu0okJwQXAs",
    "outputId": "c58b9e3f-21eb-4b20-b987-228a0de6074b"
   },
   "outputs": [
    {
     "data": {
      "text/plain": [
       "<sqlite3.Cursor at 0x24353639e40>"
      ]
     },
     "execution_count": 8,
     "metadata": {},
     "output_type": "execute_result"
    }
   ],
   "source": [
    "c.execute(\"select * from users\")"
   ]
  },
  {
   "cell_type": "code",
   "execution_count": 9,
   "metadata": {
    "colab": {
     "base_uri": "https://localhost:8080/"
    },
    "id": "WOTli2gXQavr",
    "outputId": "d44934de-c426-4607-f926-f01ac1d7c730"
   },
   "outputs": [
    {
     "data": {
      "text/plain": [
       "(('name', None, None, None, None, None, None),\n",
       " ('timestamp', None, None, None, None, None, None))"
      ]
     },
     "execution_count": 9,
     "metadata": {},
     "output_type": "execute_result"
    }
   ],
   "source": [
    "c.description"
   ]
  },
  {
   "cell_type": "code",
   "execution_count": 10,
   "metadata": {
    "id": "yrfCq_RKQvc2"
   },
   "outputs": [],
   "source": [
    "c.close()"
   ]
  },
  {
   "cell_type": "code",
   "execution_count": 11,
   "metadata": {
    "id": "fbRBHFiEQ34-"
   },
   "outputs": [],
   "source": [
    "conn.close()"
   ]
  },
  {
   "cell_type": "code",
   "execution_count": 26,
   "metadata": {
    "colab": {
     "base_uri": "https://localhost:8080/"
    },
    "id": "FaPJHbelQ41g",
    "outputId": "efe20220-af52-40cf-f9d0-fc8d5ea36c68"
   },
   "outputs": [
    {
     "name": "stdin",
     "output_type": "stream",
     "text": [
      "Enter your name AAA\n"
     ]
    }
   ],
   "source": [
    "name = input(\"Enter your name\")"
   ]
  },
  {
   "cell_type": "code",
   "execution_count": 27,
   "metadata": {
    "colab": {
     "base_uri": "https://localhost:8080/",
     "height": 35
    },
    "id": "bSegTu7iaSK2",
    "outputId": "706b51a6-941a-4319-ef34-e3ed8a432836"
   },
   "outputs": [
    {
     "data": {
      "text/plain": [
       "'AAA'"
      ]
     },
     "execution_count": 27,
     "metadata": {},
     "output_type": "execute_result"
    }
   ],
   "source": [
    "name"
   ]
  },
  {
   "cell_type": "code",
   "execution_count": 14,
   "metadata": {
    "id": "BwI-eF9tRoDF"
   },
   "outputs": [],
   "source": [
    "t = datetime.datetime.now()"
   ]
  },
  {
   "cell_type": "code",
   "execution_count": 15,
   "metadata": {
    "colab": {
     "base_uri": "https://localhost:8080/"
    },
    "id": "4QJXCfkaR8iE",
    "outputId": "39b4d026-e437-4d4a-8b78-04c5d01446bd"
   },
   "outputs": [
    {
     "data": {
      "text/plain": [
       "datetime.datetime(2025, 5, 20, 10, 49, 59, 941449)"
      ]
     },
     "execution_count": 15,
     "metadata": {},
     "output_type": "execute_result"
    }
   ],
   "source": [
    "t"
   ]
  },
  {
   "cell_type": "code",
   "execution_count": 28,
   "metadata": {
    "colab": {
     "base_uri": "https://localhost:8080/",
     "height": 70
    },
    "id": "MQyCgTCkSBxl",
    "outputId": "7f083eb9-fe64-4f58-d7b7-e3d6b088748c"
   },
   "outputs": [
    {
     "name": "stderr",
     "output_type": "stream",
     "text": [
      "C:\\Users\\cyewp\\AppData\\Local\\Temp\\ipykernel_12228\\1945165946.py:4: DeprecationWarning: The default datetime adapter is deprecated as of Python 3.12; see the sqlite3 documentation for suggested replacement recipes\n",
      "  c.execute(\"insert into users(name,timestamp) values(?,?)\",(name,t))\n"
     ]
    }
   ],
   "source": [
    "# Write into db\n",
    "conn = sqlite3.connect('user.db')\n",
    "c = conn.cursor()\n",
    "c.execute(\"insert into users(name,timestamp) values(?,?)\",(name,t))\n",
    "conn.commit()\n",
    "c.close()\n",
    "conn.close()"
   ]
  },
  {
   "cell_type": "code",
   "execution_count": 29,
   "metadata": {
    "id": "gjAfqXTOSH9N"
   },
   "outputs": [
    {
     "name": "stdout",
     "output_type": "stream",
     "text": [
      "('YYY', '2025-05-20 10:49:59.941449')\n",
      "('SSS', '2025-05-20 10:49:59.941449')\n",
      "('AAA', '2025-05-20 10:49:59.941449')\n"
     ]
    }
   ],
   "source": [
    "# Read from DB\n",
    "conn = sqlite3.connect('user.db')\n",
    "c = conn.cursor()\n",
    "c.execute(\"SELECT * from users\")\n",
    "r=\"\"\n",
    "for row in c:\n",
    "    print(row)\n",
    "    r = r+str(row)\n",
    "c.close()\n",
    "conn.close()"
   ]
  },
  {
   "cell_type": "code",
   "execution_count": 18,
   "metadata": {
    "id": "9nuLbzSKUlSh"
   },
   "outputs": [],
   "source": [
    "# Delete from DB\n",
    "conn = sqlite3.connect('user.db')\n",
    "c = conn.cursor()\n",
    "c.execute(\"delete from users\")\n",
    "conn.commit()\n",
    "c.close()\n",
    "conn.close()"
   ]
  },
  {
   "cell_type": "code",
   "execution_count": null,
   "metadata": {},
   "outputs": [],
   "source": []
  }
 ],
 "metadata": {
  "colab": {
   "gpuType": "T4",
   "provenance": []
  },
  "kernelspec": {
   "display_name": "Python 3 (ipykernel)",
   "language": "python",
   "name": "python3"
  },
  "language_info": {
   "codemirror_mode": {
    "name": "ipython",
    "version": 3
   },
   "file_extension": ".py",
   "mimetype": "text/x-python",
   "name": "python",
   "nbconvert_exporter": "python",
   "pygments_lexer": "ipython3",
   "version": "3.12.8"
  }
 },
 "nbformat": 4,
 "nbformat_minor": 4
}
